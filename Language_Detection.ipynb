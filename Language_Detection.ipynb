{
  "nbformat": 4,
  "nbformat_minor": 0,
  "metadata": {
    "colab": {
      "provenance": []
    },
    "kernelspec": {
      "name": "python3",
      "display_name": "Python 3"
    },
    "language_info": {
      "name": "python"
    }
  },
  "cells": [
    {
      "cell_type": "code",
      "execution_count": 1,
      "metadata": {
        "id": "doQPs6GmoOp8"
      },
      "outputs": [],
      "source": [
        "import pandas as pd\n",
        "from sklearn.model_selection import train_test_split\n",
        "from sklearn.feature_extraction.text import TfidfVectorizer\n",
        "from sklearn.naive_bayes import MultinomialNB\n",
        "\n",
        "# Load the dataset\n",
        "data = pd.read_csv(\"language_dataset.csv\")  # Replace with your dataset path\n"
      ]
    },
    {
      "cell_type": "code",
      "source": [
        "# Separate text and language labels\n",
        "Text = data[\"Text\"]\n",
        "labels = data[\"Language\"]"
      ],
      "metadata": {
        "id": "rW7OMhYfowQP"
      },
      "execution_count": 7,
      "outputs": []
    },
    {
      "cell_type": "code",
      "source": [
        "data.isnull().sum()"
      ],
      "metadata": {
        "colab": {
          "base_uri": "https://localhost:8080/"
        },
        "id": "x6fmvi1-o3_g",
        "outputId": "22eb130d-fd16-4fe1-9e4a-c4ee473e4444"
      },
      "execution_count": 3,
      "outputs": [
        {
          "output_type": "execute_result",
          "data": {
            "text/plain": [
              "Text        0\n",
              "Language    0\n",
              "dtype: int64"
            ]
          },
          "metadata": {},
          "execution_count": 3
        }
      ]
    },
    {
      "cell_type": "code",
      "source": [
        "data['Language'].value_counts()"
      ],
      "metadata": {
        "colab": {
          "base_uri": "https://localhost:8080/"
        },
        "id": "EcAOcfYho-e0",
        "outputId": "db3d84c8-b22f-4b71-cda8-770f4993dba0"
      },
      "execution_count": 5,
      "outputs": [
        {
          "output_type": "execute_result",
          "data": {
            "text/plain": [
              "English       1385\n",
              "French        1014\n",
              "Spanish        819\n",
              "Portugeese     739\n",
              "Italian        698\n",
              "Russian        692\n",
              "Sweedish       676\n",
              "Malayalam      594\n",
              "Dutch          546\n",
              "Arabic         536\n",
              "Turkish        474\n",
              "German         470\n",
              "Tamil          469\n",
              "Danish         428\n",
              "Kannada        369\n",
              "Greek          365\n",
              "Hindi           63\n",
              "Name: Language, dtype: int64"
            ]
          },
          "metadata": {},
          "execution_count": 5
        }
      ]
    },
    {
      "cell_type": "code",
      "source": [
        "import re\n",
        "data_list = []\n",
        "for text in Text:\n",
        "    text = re.sub(r'[!@#$(),\"%^*?:;~`0-9]', ' ', text)\n",
        "    text = re.sub(r'[[]]', ' ', text)\n",
        "    text = text.lower()\n",
        "    data_list.append(text)"
      ],
      "metadata": {
        "id": "zT33rO61pCBF"
      },
      "execution_count": 10,
      "outputs": []
    },
    {
      "cell_type": "code",
      "source": [
        "Text = data_list"
      ],
      "metadata": {
        "id": "hE0av5ERpQel"
      },
      "execution_count": null,
      "outputs": []
    },
    {
      "cell_type": "code",
      "source": [
        "from sklearn.model_selection import train_test_split\n",
        "\n",
        "X_train, X_test, y_train, y_test = train_test_split(Text, labels, test_size=0.33, random_state=42)"
      ],
      "metadata": {
        "id": "mQCjOBfspVZY"
      },
      "execution_count": 14,
      "outputs": []
    },
    {
      "cell_type": "code",
      "source": [
        "# Feature extraction using TF-IDF\n",
        "vectorizer = TfidfVectorizer()\n",
        "X_train_features = vectorizer.fit_transform(X_train)\n",
        "X_test_features = vectorizer.transform(X_test)"
      ],
      "metadata": {
        "id": "pRHszphHp1QB"
      },
      "execution_count": 15,
      "outputs": []
    },
    {
      "cell_type": "code",
      "source": [
        "model = MultinomialNB()\n",
        "model.fit(X_train_features, y_train)"
      ],
      "metadata": {
        "colab": {
          "base_uri": "https://localhost:8080/",
          "height": 74
        },
        "id": "zxllI0F9p5pF",
        "outputId": "a379d5c7-71a5-41b0-cab2-b0e2313ccf1e"
      },
      "execution_count": 16,
      "outputs": [
        {
          "output_type": "execute_result",
          "data": {
            "text/plain": [
              "MultinomialNB()"
            ],
            "text/html": [
              "<style>#sk-container-id-1 {color: black;background-color: white;}#sk-container-id-1 pre{padding: 0;}#sk-container-id-1 div.sk-toggleable {background-color: white;}#sk-container-id-1 label.sk-toggleable__label {cursor: pointer;display: block;width: 100%;margin-bottom: 0;padding: 0.3em;box-sizing: border-box;text-align: center;}#sk-container-id-1 label.sk-toggleable__label-arrow:before {content: \"▸\";float: left;margin-right: 0.25em;color: #696969;}#sk-container-id-1 label.sk-toggleable__label-arrow:hover:before {color: black;}#sk-container-id-1 div.sk-estimator:hover label.sk-toggleable__label-arrow:before {color: black;}#sk-container-id-1 div.sk-toggleable__content {max-height: 0;max-width: 0;overflow: hidden;text-align: left;background-color: #f0f8ff;}#sk-container-id-1 div.sk-toggleable__content pre {margin: 0.2em;color: black;border-radius: 0.25em;background-color: #f0f8ff;}#sk-container-id-1 input.sk-toggleable__control:checked~div.sk-toggleable__content {max-height: 200px;max-width: 100%;overflow: auto;}#sk-container-id-1 input.sk-toggleable__control:checked~label.sk-toggleable__label-arrow:before {content: \"▾\";}#sk-container-id-1 div.sk-estimator input.sk-toggleable__control:checked~label.sk-toggleable__label {background-color: #d4ebff;}#sk-container-id-1 div.sk-label input.sk-toggleable__control:checked~label.sk-toggleable__label {background-color: #d4ebff;}#sk-container-id-1 input.sk-hidden--visually {border: 0;clip: rect(1px 1px 1px 1px);clip: rect(1px, 1px, 1px, 1px);height: 1px;margin: -1px;overflow: hidden;padding: 0;position: absolute;width: 1px;}#sk-container-id-1 div.sk-estimator {font-family: monospace;background-color: #f0f8ff;border: 1px dotted black;border-radius: 0.25em;box-sizing: border-box;margin-bottom: 0.5em;}#sk-container-id-1 div.sk-estimator:hover {background-color: #d4ebff;}#sk-container-id-1 div.sk-parallel-item::after {content: \"\";width: 100%;border-bottom: 1px solid gray;flex-grow: 1;}#sk-container-id-1 div.sk-label:hover label.sk-toggleable__label {background-color: #d4ebff;}#sk-container-id-1 div.sk-serial::before {content: \"\";position: absolute;border-left: 1px solid gray;box-sizing: border-box;top: 0;bottom: 0;left: 50%;z-index: 0;}#sk-container-id-1 div.sk-serial {display: flex;flex-direction: column;align-items: center;background-color: white;padding-right: 0.2em;padding-left: 0.2em;position: relative;}#sk-container-id-1 div.sk-item {position: relative;z-index: 1;}#sk-container-id-1 div.sk-parallel {display: flex;align-items: stretch;justify-content: center;background-color: white;position: relative;}#sk-container-id-1 div.sk-item::before, #sk-container-id-1 div.sk-parallel-item::before {content: \"\";position: absolute;border-left: 1px solid gray;box-sizing: border-box;top: 0;bottom: 0;left: 50%;z-index: -1;}#sk-container-id-1 div.sk-parallel-item {display: flex;flex-direction: column;z-index: 1;position: relative;background-color: white;}#sk-container-id-1 div.sk-parallel-item:first-child::after {align-self: flex-end;width: 50%;}#sk-container-id-1 div.sk-parallel-item:last-child::after {align-self: flex-start;width: 50%;}#sk-container-id-1 div.sk-parallel-item:only-child::after {width: 0;}#sk-container-id-1 div.sk-dashed-wrapped {border: 1px dashed gray;margin: 0 0.4em 0.5em 0.4em;box-sizing: border-box;padding-bottom: 0.4em;background-color: white;}#sk-container-id-1 div.sk-label label {font-family: monospace;font-weight: bold;display: inline-block;line-height: 1.2em;}#sk-container-id-1 div.sk-label-container {text-align: center;}#sk-container-id-1 div.sk-container {/* jupyter's `normalize.less` sets `[hidden] { display: none; }` but bootstrap.min.css set `[hidden] { display: none !important; }` so we also need the `!important` here to be able to override the default hidden behavior on the sphinx rendered scikit-learn.org. See: https://github.com/scikit-learn/scikit-learn/issues/21755 */display: inline-block !important;position: relative;}#sk-container-id-1 div.sk-text-repr-fallback {display: none;}</style><div id=\"sk-container-id-1\" class=\"sk-top-container\"><div class=\"sk-text-repr-fallback\"><pre>MultinomialNB()</pre><b>In a Jupyter environment, please rerun this cell to show the HTML representation or trust the notebook. <br />On GitHub, the HTML representation is unable to render, please try loading this page with nbviewer.org.</b></div><div class=\"sk-container\" hidden><div class=\"sk-item\"><div class=\"sk-estimator sk-toggleable\"><input class=\"sk-toggleable__control sk-hidden--visually\" id=\"sk-estimator-id-1\" type=\"checkbox\" checked><label for=\"sk-estimator-id-1\" class=\"sk-toggleable__label sk-toggleable__label-arrow\">MultinomialNB</label><div class=\"sk-toggleable__content\"><pre>MultinomialNB()</pre></div></div></div></div></div>"
            ]
          },
          "metadata": {},
          "execution_count": 16
        }
      ]
    },
    {
      "cell_type": "code",
      "source": [
        "predictions = model.predict(X_test_features)"
      ],
      "metadata": {
        "id": "i1CZfJFYqAah"
      },
      "execution_count": 17,
      "outputs": []
    },
    {
      "cell_type": "code",
      "source": [
        "predictions"
      ],
      "metadata": {
        "colab": {
          "base_uri": "https://localhost:8080/"
        },
        "id": "LPh2QP0_qEZ5",
        "outputId": "80884f00-4f94-453d-e230-21e4c5fbf317"
      },
      "execution_count": 20,
      "outputs": [
        {
          "output_type": "execute_result",
          "data": {
            "text/plain": [
              "array(['Russian', 'Italian', 'English', ..., 'Arabic', 'English',\n",
              "       'Italian'], dtype='<U10')"
            ]
          },
          "metadata": {},
          "execution_count": 20
        }
      ]
    },
    {
      "cell_type": "code",
      "source": [
        "y_test"
      ],
      "metadata": {
        "colab": {
          "base_uri": "https://localhost:8080/"
        },
        "id": "qMUFfMxeqMaq",
        "outputId": "ff475be8-1e61-49f0-9e31-75b1f8447b3b"
      },
      "execution_count": 21,
      "outputs": [
        {
          "output_type": "execute_result",
          "data": {
            "text/plain": [
              "6662       Russian\n",
              "7362       Italian\n",
              "765        English\n",
              "6192       Russian\n",
              "562        English\n",
              "           ...    \n",
              "2631    Portugeese\n",
              "8570      Sweedish\n",
              "9082        Arabic\n",
              "401        English\n",
              "7632       Italian\n",
              "Name: Language, Length: 3412, dtype: object"
            ]
          },
          "metadata": {},
          "execution_count": 21
        }
      ]
    },
    {
      "cell_type": "code",
      "source": [
        "from sklearn.metrics import confusion_matrix, classification_report, accuracy_score"
      ],
      "metadata": {
        "id": "89Srl8XVqcs0"
      },
      "execution_count": 22,
      "outputs": []
    },
    {
      "cell_type": "code",
      "source": [
        "print(confusion_matrix(y_test, predictions))"
      ],
      "metadata": {
        "colab": {
          "base_uri": "https://localhost:8080/"
        },
        "id": "MvH_yFoXqf5z",
        "outputId": "3abf6462-50f5-4a92-a0af-faabef3f96cb"
      },
      "execution_count": 23,
      "outputs": [
        {
          "output_type": "stream",
          "name": "stdout",
          "text": [
            "[[171   0   0  11   0   0   0   0   0   0   0   0   0   0   0   0   0]\n",
            " [  0 124   0   5   2   0   0   0   0   0   0   0   0   0   8   0   0]\n",
            " [  0   0 176   8   3   0   0   0   0   0   0   0   0   0   0   0   0]\n",
            " [  0   0   0 486   0   0   0   0   0   0   0   0   0   0   0   0   0]\n",
            " [  0   0   0   2 336   0   0   0   1   0   0   0   0   1   0   0   0]\n",
            " [  0   0   0   6   1 140   0   0   0   0   0   0   0   0   0   0   0]\n",
            " [  0   0   0   6   0   0 106   0   0   0   0   0   0   0   0   0   0]\n",
            " [  0   0   0  10   0   0   0  10   0   0   0   0   0   0   0   0   0]\n",
            " [  0   0   0   5   2   0   0   0 228   0   0   0   0   2   0   0   0]\n",
            " [  0   0   0   6   0   0   0   0   0 103   0   0   0   0   0   0   0]\n",
            " [  0   0   0   5   0   0   0   0   0   0 195   0   0   0   0   0   0]\n",
            " [  0   0   0   5   0   0   0   0   0   0   0 231   0   5   0   0   0]\n",
            " [  0   0   0  15   0   0   0   0   0   0   0   0 202   0   0   0   0]\n",
            " [  0   0   0   5   1   0   0   0   0   0   0   1   0 262   0   0   0]\n",
            " [  0   1   0   7   1   0   0   0   0   0   0   0   0   0 206   0   0]\n",
            " [  0   0   0   3   0   0   0   0   0   0   0   0   0   0   0 152   0]\n",
            " [  0   0   1  21   8   0   0   0   0   0   0   0   0   0   1   0 125]]\n"
          ]
        }
      ]
    },
    {
      "cell_type": "code",
      "source": [
        "print(classification_report(y_test, predictions))"
      ],
      "metadata": {
        "colab": {
          "base_uri": "https://localhost:8080/"
        },
        "id": "vkEqiHEpqiyG",
        "outputId": "05fbd8ca-c717-4757-b131-b2e4b69d945a"
      },
      "execution_count": 24,
      "outputs": [
        {
          "output_type": "stream",
          "name": "stdout",
          "text": [
            "              precision    recall  f1-score   support\n",
            "\n",
            "      Arabic       1.00      0.94      0.97       182\n",
            "      Danish       0.99      0.89      0.94       139\n",
            "       Dutch       0.99      0.94      0.97       187\n",
            "     English       0.80      1.00      0.89       486\n",
            "      French       0.95      0.99      0.97       340\n",
            "      German       1.00      0.95      0.98       147\n",
            "       Greek       1.00      0.95      0.97       112\n",
            "       Hindi       1.00      0.50      0.67        20\n",
            "     Italian       1.00      0.96      0.98       237\n",
            "     Kannada       1.00      0.94      0.97       109\n",
            "   Malayalam       1.00      0.97      0.99       200\n",
            "  Portugeese       1.00      0.96      0.98       241\n",
            "     Russian       1.00      0.93      0.96       217\n",
            "     Spanish       0.97      0.97      0.97       269\n",
            "    Sweedish       0.96      0.96      0.96       215\n",
            "       Tamil       1.00      0.98      0.99       155\n",
            "     Turkish       1.00      0.80      0.89       156\n",
            "\n",
            "    accuracy                           0.95      3412\n",
            "   macro avg       0.98      0.92      0.94      3412\n",
            "weighted avg       0.96      0.95      0.95      3412\n",
            "\n"
          ]
        }
      ]
    },
    {
      "cell_type": "code",
      "source": [
        "print(accuracy_score(y_test, predictions))"
      ],
      "metadata": {
        "colab": {
          "base_uri": "https://localhost:8080/"
        },
        "id": "0fVnkBBEqnIr",
        "outputId": "58fd3188-eb07-4476-d1a7-f9f247e649b6"
      },
      "execution_count": 25,
      "outputs": [
        {
          "output_type": "stream",
          "name": "stdout",
          "text": [
            "0.9533997655334114\n"
          ]
        }
      ]
    },
    {
      "cell_type": "code",
      "source": [
        "from sklearn.pipeline import Pipeline\n",
        "from sklearn.feature_extraction.text import TfidfVectorizer\n",
        "from sklearn.svm import LinearSVC\n",
        "\n",
        "lang_clf = Pipeline([('tfidf', TfidfVectorizer()), ('clf', LinearSVC())])\n",
        "\n",
        "lang_clf.fit(X_train, y_train)"
      ],
      "metadata": {
        "colab": {
          "base_uri": "https://localhost:8080/",
          "height": 125
        },
        "id": "q8Xalxe4qxit",
        "outputId": "ac2cc33e-3e43-4065-f01b-b859bc32db19"
      },
      "execution_count": 30,
      "outputs": [
        {
          "output_type": "execute_result",
          "data": {
            "text/plain": [
              "Pipeline(steps=[('tfidf', TfidfVectorizer()), ('clf', LinearSVC())])"
            ],
            "text/html": [
              "<style>#sk-container-id-2 {color: black;background-color: white;}#sk-container-id-2 pre{padding: 0;}#sk-container-id-2 div.sk-toggleable {background-color: white;}#sk-container-id-2 label.sk-toggleable__label {cursor: pointer;display: block;width: 100%;margin-bottom: 0;padding: 0.3em;box-sizing: border-box;text-align: center;}#sk-container-id-2 label.sk-toggleable__label-arrow:before {content: \"▸\";float: left;margin-right: 0.25em;color: #696969;}#sk-container-id-2 label.sk-toggleable__label-arrow:hover:before {color: black;}#sk-container-id-2 div.sk-estimator:hover label.sk-toggleable__label-arrow:before {color: black;}#sk-container-id-2 div.sk-toggleable__content {max-height: 0;max-width: 0;overflow: hidden;text-align: left;background-color: #f0f8ff;}#sk-container-id-2 div.sk-toggleable__content pre {margin: 0.2em;color: black;border-radius: 0.25em;background-color: #f0f8ff;}#sk-container-id-2 input.sk-toggleable__control:checked~div.sk-toggleable__content {max-height: 200px;max-width: 100%;overflow: auto;}#sk-container-id-2 input.sk-toggleable__control:checked~label.sk-toggleable__label-arrow:before {content: \"▾\";}#sk-container-id-2 div.sk-estimator input.sk-toggleable__control:checked~label.sk-toggleable__label {background-color: #d4ebff;}#sk-container-id-2 div.sk-label input.sk-toggleable__control:checked~label.sk-toggleable__label {background-color: #d4ebff;}#sk-container-id-2 input.sk-hidden--visually {border: 0;clip: rect(1px 1px 1px 1px);clip: rect(1px, 1px, 1px, 1px);height: 1px;margin: -1px;overflow: hidden;padding: 0;position: absolute;width: 1px;}#sk-container-id-2 div.sk-estimator {font-family: monospace;background-color: #f0f8ff;border: 1px dotted black;border-radius: 0.25em;box-sizing: border-box;margin-bottom: 0.5em;}#sk-container-id-2 div.sk-estimator:hover {background-color: #d4ebff;}#sk-container-id-2 div.sk-parallel-item::after {content: \"\";width: 100%;border-bottom: 1px solid gray;flex-grow: 1;}#sk-container-id-2 div.sk-label:hover label.sk-toggleable__label {background-color: #d4ebff;}#sk-container-id-2 div.sk-serial::before {content: \"\";position: absolute;border-left: 1px solid gray;box-sizing: border-box;top: 0;bottom: 0;left: 50%;z-index: 0;}#sk-container-id-2 div.sk-serial {display: flex;flex-direction: column;align-items: center;background-color: white;padding-right: 0.2em;padding-left: 0.2em;position: relative;}#sk-container-id-2 div.sk-item {position: relative;z-index: 1;}#sk-container-id-2 div.sk-parallel {display: flex;align-items: stretch;justify-content: center;background-color: white;position: relative;}#sk-container-id-2 div.sk-item::before, #sk-container-id-2 div.sk-parallel-item::before {content: \"\";position: absolute;border-left: 1px solid gray;box-sizing: border-box;top: 0;bottom: 0;left: 50%;z-index: -1;}#sk-container-id-2 div.sk-parallel-item {display: flex;flex-direction: column;z-index: 1;position: relative;background-color: white;}#sk-container-id-2 div.sk-parallel-item:first-child::after {align-self: flex-end;width: 50%;}#sk-container-id-2 div.sk-parallel-item:last-child::after {align-self: flex-start;width: 50%;}#sk-container-id-2 div.sk-parallel-item:only-child::after {width: 0;}#sk-container-id-2 div.sk-dashed-wrapped {border: 1px dashed gray;margin: 0 0.4em 0.5em 0.4em;box-sizing: border-box;padding-bottom: 0.4em;background-color: white;}#sk-container-id-2 div.sk-label label {font-family: monospace;font-weight: bold;display: inline-block;line-height: 1.2em;}#sk-container-id-2 div.sk-label-container {text-align: center;}#sk-container-id-2 div.sk-container {/* jupyter's `normalize.less` sets `[hidden] { display: none; }` but bootstrap.min.css set `[hidden] { display: none !important; }` so we also need the `!important` here to be able to override the default hidden behavior on the sphinx rendered scikit-learn.org. See: https://github.com/scikit-learn/scikit-learn/issues/21755 */display: inline-block !important;position: relative;}#sk-container-id-2 div.sk-text-repr-fallback {display: none;}</style><div id=\"sk-container-id-2\" class=\"sk-top-container\"><div class=\"sk-text-repr-fallback\"><pre>Pipeline(steps=[(&#x27;tfidf&#x27;, TfidfVectorizer()), (&#x27;clf&#x27;, LinearSVC())])</pre><b>In a Jupyter environment, please rerun this cell to show the HTML representation or trust the notebook. <br />On GitHub, the HTML representation is unable to render, please try loading this page with nbviewer.org.</b></div><div class=\"sk-container\" hidden><div class=\"sk-item sk-dashed-wrapped\"><div class=\"sk-label-container\"><div class=\"sk-label sk-toggleable\"><input class=\"sk-toggleable__control sk-hidden--visually\" id=\"sk-estimator-id-2\" type=\"checkbox\" ><label for=\"sk-estimator-id-2\" class=\"sk-toggleable__label sk-toggleable__label-arrow\">Pipeline</label><div class=\"sk-toggleable__content\"><pre>Pipeline(steps=[(&#x27;tfidf&#x27;, TfidfVectorizer()), (&#x27;clf&#x27;, LinearSVC())])</pre></div></div></div><div class=\"sk-serial\"><div class=\"sk-item\"><div class=\"sk-estimator sk-toggleable\"><input class=\"sk-toggleable__control sk-hidden--visually\" id=\"sk-estimator-id-3\" type=\"checkbox\" ><label for=\"sk-estimator-id-3\" class=\"sk-toggleable__label sk-toggleable__label-arrow\">TfidfVectorizer</label><div class=\"sk-toggleable__content\"><pre>TfidfVectorizer()</pre></div></div></div><div class=\"sk-item\"><div class=\"sk-estimator sk-toggleable\"><input class=\"sk-toggleable__control sk-hidden--visually\" id=\"sk-estimator-id-4\" type=\"checkbox\" ><label for=\"sk-estimator-id-4\" class=\"sk-toggleable__label sk-toggleable__label-arrow\">LinearSVC</label><div class=\"sk-toggleable__content\"><pre>LinearSVC()</pre></div></div></div></div></div></div></div>"
            ]
          },
          "metadata": {},
          "execution_count": 30
        }
      ]
    },
    {
      "cell_type": "code",
      "source": [
        "Predictions = lang_clf.predict(X_test)"
      ],
      "metadata": {
        "id": "ds89C1QArYlV"
      },
      "execution_count": 31,
      "outputs": []
    },
    {
      "cell_type": "code",
      "source": [
        "print(confusion_matrix(y_test, Predictions))"
      ],
      "metadata": {
        "colab": {
          "base_uri": "https://localhost:8080/"
        },
        "id": "SgjqYr1brbkB",
        "outputId": "6ee047ca-d864-46fc-baa3-ef34c4e7e0ba"
      },
      "execution_count": 32,
      "outputs": [
        {
          "output_type": "stream",
          "name": "stdout",
          "text": [
            "[[177   0   0   0   0   0   0   0   0   0   0   0   4   0   0   0   1]\n",
            " [  0 129   0   0   1   1   0   0   1   0   0   0   2   0   5   0   0]\n",
            " [  0   0 179   0   1   0   0   0   0   0   0   0   4   3   0   0   0]\n",
            " [  0   0   0 480   0   0   0   0   0   0   0   0   5   1   0   0   0]\n",
            " [  0   0   1   0 334   0   0   0   1   0   0   0   3   1   0   0   0]\n",
            " [  0   1   0   0   0 143   0   0   0   0   0   0   3   0   0   0   0]\n",
            " [  0   0   0   1   0   0 107   0   0   0   0   0   4   0   0   0   0]\n",
            " [  0   0   0   0   0   0   0  20   0   0   0   0   0   0   0   0   0]\n",
            " [  0   1   0   0   0   0   0   0 231   0   0   0   3   2   0   0   0]\n",
            " [  0   0   0   0   0   0   0   0   0 107   0   0   2   0   0   0   0]\n",
            " [  0   0   0   1   0   0   0   0   0   0 195   0   4   0   0   0   0]\n",
            " [  0   0   0   1   0   0   0   0   0   0   0 231   5   4   0   0   0]\n",
            " [  0   0   0   0   0   0   0   0   0   0   0   0 217   0   0   0   0]\n",
            " [  0   0   0   0   1   0   0   0   0   0   0   1   5 262   0   0   0]\n",
            " [  0   3   0   2   0   0   0   0   0   0   0   0   4   0 206   0   0]\n",
            " [  0   0   0   0   0   0   0   0   0   0   0   0   3   0   0 152   0]\n",
            " [  0   0   0   0   2   0   0   0   0   0   0   0   6   1   0   0 147]]\n"
          ]
        }
      ]
    },
    {
      "cell_type": "code",
      "source": [
        "print(classification_report(y_test, Predictions))"
      ],
      "metadata": {
        "colab": {
          "base_uri": "https://localhost:8080/"
        },
        "id": "9ePqroUard5g",
        "outputId": "127628e0-4c0a-401f-9c36-cdf0941f61ce"
      },
      "execution_count": 33,
      "outputs": [
        {
          "output_type": "stream",
          "name": "stdout",
          "text": [
            "              precision    recall  f1-score   support\n",
            "\n",
            "      Arabic       1.00      0.97      0.99       182\n",
            "      Danish       0.96      0.93      0.95       139\n",
            "       Dutch       0.99      0.96      0.98       187\n",
            "     English       0.99      0.99      0.99       486\n",
            "      French       0.99      0.98      0.98       340\n",
            "      German       0.99      0.97      0.98       147\n",
            "       Greek       1.00      0.96      0.98       112\n",
            "       Hindi       1.00      1.00      1.00        20\n",
            "     Italian       0.99      0.97      0.98       237\n",
            "     Kannada       1.00      0.98      0.99       109\n",
            "   Malayalam       1.00      0.97      0.99       200\n",
            "  Portugeese       1.00      0.96      0.98       241\n",
            "     Russian       0.79      1.00      0.88       217\n",
            "     Spanish       0.96      0.97      0.97       269\n",
            "    Sweedish       0.98      0.96      0.97       215\n",
            "       Tamil       1.00      0.98      0.99       155\n",
            "     Turkish       0.99      0.94      0.97       156\n",
            "\n",
            "    accuracy                           0.97      3412\n",
            "   macro avg       0.98      0.97      0.97      3412\n",
            "weighted avg       0.98      0.97      0.97      3412\n",
            "\n"
          ]
        }
      ]
    },
    {
      "cell_type": "code",
      "source": [
        "print(accuracy_score(y_test, Predictions))"
      ],
      "metadata": {
        "colab": {
          "base_uri": "https://localhost:8080/"
        },
        "id": "kkFp96jwrhGU",
        "outputId": "257ae443-f173-4a03-878f-87d11f46f34a"
      },
      "execution_count": 34,
      "outputs": [
        {
          "output_type": "stream",
          "name": "stdout",
          "text": [
            "0.9721570926143025\n"
          ]
        }
      ]
    },
    {
      "cell_type": "code",
      "source": [
        "# Arabic\n",
        "lang_clf.predict([\"مرحبا كيف حالك؟\"])"
      ],
      "metadata": {
        "colab": {
          "base_uri": "https://localhost:8080/"
        },
        "id": "FwpJIYdCrjqi",
        "outputId": "c79e0934-0bdf-44d1-e077-2cfa7077a53e"
      },
      "execution_count": 35,
      "outputs": [
        {
          "output_type": "execute_result",
          "data": {
            "text/plain": [
              "array(['Arabic'], dtype=object)"
            ]
          },
          "metadata": {},
          "execution_count": 35
        }
      ]
    },
    {
      "cell_type": "code",
      "source": [
        "lang_clf.predict([\"how are you\"])"
      ],
      "metadata": {
        "colab": {
          "base_uri": "https://localhost:8080/"
        },
        "id": "TaHyTWHWrl5O",
        "outputId": "474a05eb-48e1-42d6-a62f-b06a70b7bdf4"
      },
      "execution_count": 37,
      "outputs": [
        {
          "output_type": "execute_result",
          "data": {
            "text/plain": [
              "array(['English'], dtype=object)"
            ]
          },
          "metadata": {},
          "execution_count": 37
        }
      ]
    },
    {
      "cell_type": "code",
      "source": [
        "#French\n",
        "lang_clf.predict([\"Comment vas-tu\"])"
      ],
      "metadata": {
        "colab": {
          "base_uri": "https://localhost:8080/"
        },
        "id": "B0au9HWrr2GB",
        "outputId": "954b8caa-6642-4214-9303-d5bcf13677e4"
      },
      "execution_count": 39,
      "outputs": [
        {
          "output_type": "execute_result",
          "data": {
            "text/plain": [
              "array(['French'], dtype=object)"
            ]
          },
          "metadata": {},
          "execution_count": 39
        }
      ]
    },
    {
      "cell_type": "code",
      "source": [],
      "metadata": {
        "id": "5i1BUyXVsFNO"
      },
      "execution_count": null,
      "outputs": []
    }
  ]
}